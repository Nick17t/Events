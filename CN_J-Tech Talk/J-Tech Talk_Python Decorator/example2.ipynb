{
 "cells": [
  {
   "cell_type": "code",
   "execution_count": 9,
   "metadata": {},
   "outputs": [
    {
     "name": "stdout",
     "output_type": "stream",
     "text": [
      "Wrapper started before heavy\n",
      "Hello Jina * 100\n"
     ]
    }
   ],
   "source": [
    "def my_decorator(func):\n",
    "    def my_wrapper(*arg, **kwargs):\n",
    "        print(f\"Wrapper started before {func.__name__}\")\n",
    "        return func(*arg, **kwargs)\n",
    "    return my_wrapper\n",
    "\n",
    "def heavy():\n",
    "    print(\"Hello Jina * 100\")\n",
    "    \n",
    "heavy = my_decorator(heavy)\n",
    "heavy()"
   ]
  },
  {
   "cell_type": "code",
   "execution_count": 6,
   "metadata": {},
   "outputs": [
    {
     "name": "stdout",
     "output_type": "stream",
     "text": [
      "Wrapper started before heavy2\n",
      "Hello Jina * 100\n"
     ]
    }
   ],
   "source": [
    "@my_decorator\n",
    "def heavy2():\n",
    "    print(\"Hello Jina * 100\")\n",
    "    \n",
    "heavy2()"
   ]
  },
  {
   "cell_type": "code",
   "execution_count": 10,
   "metadata": {},
   "outputs": [
    {
     "name": "stdout",
     "output_type": "stream",
     "text": [
      "Wrapper started before heavy3\n",
      "Hello AI\n"
     ]
    }
   ],
   "source": [
    "@my_decorator\n",
    "def heavy3(name):\n",
    "    print(f\"Hello {name}\")\n",
    "    \n",
    "heavy3(\"AI\")"
   ]
  },
  {
   "cell_type": "code",
   "execution_count": 11,
   "metadata": {},
   "outputs": [
    {
     "name": "stdout",
     "output_type": "stream",
     "text": [
      "Call started before heavy\n",
      "Hello Jina AI\n"
     ]
    }
   ],
   "source": [
    "class deco_class(object):\n",
    "    def __init__(self, func):\n",
    "        self.func = func\n",
    "\n",
    "    def __call__(self, *args, **kwargs):\n",
    "        print(f'Call started before {self.func.__name__}')\n",
    "        return self.func(*args, **kwargs)\n",
    "\n",
    "@deco_class\n",
    "def heavy(name):\n",
    "    print(f'Hello {name}')\n",
    "\n",
    "heavy(\"Jina AI\")"
   ]
  },
  {
   "cell_type": "code",
   "execution_count": null,
   "metadata": {},
   "outputs": [],
   "source": []
  }
 ],
 "metadata": {
  "kernelspec": {
   "display_name": "Python 3 (ipykernel)",
   "language": "python",
   "name": "python3"
  },
  "language_info": {
   "codemirror_mode": {
    "name": "ipython",
    "version": 3
   },
   "file_extension": ".py",
   "mimetype": "text/x-python",
   "name": "python",
   "nbconvert_exporter": "python",
   "pygments_lexer": "ipython3",
   "version": "3.9.12"
  },
  "vscode": {
   "interpreter": {
    "hash": "c769f0fa160079b2cd2a7dc7a505e2ec2a9ba02544a35d08cb03a3a31eeb04f5"
   }
  }
 },
 "nbformat": 4,
 "nbformat_minor": 2
}
