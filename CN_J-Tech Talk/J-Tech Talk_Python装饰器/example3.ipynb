{
 "cells": [
  {
   "cell_type": "code",
   "execution_count": 5,
   "metadata": {},
   "outputs": [
    {
     "name": "stdout",
     "output_type": "stream",
     "text": [
      "heavy was called with ('Jina AI',) and {}\n",
      "Hello Jina AI\n"
     ]
    }
   ],
   "source": [
    "from functools import wraps\n",
    "\n",
    "def logger(func):\n",
    "    @wraps(func)\n",
    "    def wrapper(*args, **kwargs):\n",
    "        print(f'{func.__name__} was called with {args} and {kwargs}')\n",
    "        return func(*args, **kwargs)\n",
    "    \n",
    "    return wrapper\n",
    "\n",
    "@logger\n",
    "def heavy(name):\n",
    "    print(f\"Hello {name}\")\n",
    "    \n",
    "heavy(\"Jina AI\")"
   ]
  },
  {
   "cell_type": "code",
   "execution_count": 6,
   "metadata": {},
   "outputs": [
    {
     "name": "stdout",
     "output_type": "stream",
     "text": [
      "heavy2 was called with () and {}\n",
      "Hello\n",
      "heavy2 took 2.0045361518859863 seconds\n"
     ]
    }
   ],
   "source": [
    "def timer(func):\n",
    "    import time\n",
    "    @wraps(func)\n",
    "    def wrapper(*args, **kwargs):\n",
    "        start = time.time()\n",
    "        result = func(*args, **kwargs)\n",
    "        end = time.time()\n",
    "        print(f'{func.__name__} took {end - start} seconds')\n",
    "        return result\n",
    "    \n",
    "    return wrapper\n",
    "\n",
    "\n",
    "@logger\n",
    "@timer\n",
    "def heavy2():\n",
    "    import time\n",
    "    time.sleep(2)\n",
    "    print(\"Hello\")\n",
    "\n",
    "heavy2()"
   ]
  },
  {
   "cell_type": "code",
   "execution_count": null,
   "metadata": {},
   "outputs": [],
   "source": []
  }
 ],
 "metadata": {
  "kernelspec": {
   "display_name": "Python 3 (ipykernel)",
   "language": "python",
   "name": "python3"
  },
  "language_info": {
   "codemirror_mode": {
    "name": "ipython",
    "version": 3
   },
   "file_extension": ".py",
   "mimetype": "text/x-python",
   "name": "python",
   "nbconvert_exporter": "python",
   "pygments_lexer": "ipython3",
   "version": "3.9.12"
  },
  "vscode": {
   "interpreter": {
    "hash": "c769f0fa160079b2cd2a7dc7a505e2ec2a9ba02544a35d08cb03a3a31eeb04f5"
   }
  }
 },
 "nbformat": 4,
 "nbformat_minor": 2
}
