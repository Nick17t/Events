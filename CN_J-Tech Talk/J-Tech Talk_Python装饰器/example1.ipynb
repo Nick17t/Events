{
 "cells": [
  {
   "cell_type": "code",
   "execution_count": 2,
   "metadata": {},
   "outputs": [
    {
     "name": "stdout",
     "output_type": "stream",
     "text": [
      "Hello Jina\n"
     ]
    }
   ],
   "source": [
    "# functions are objects\n",
    "\n",
    "def f1():\n",
    "    print (\"Hello Jina\")\n",
    "    \n",
    "f1()"
   ]
  },
  {
   "cell_type": "code",
   "execution_count": 3,
   "metadata": {},
   "outputs": [
    {
     "name": "stdout",
     "output_type": "stream",
     "text": [
      "<function f1 at 0x7f90589caca0>\n"
     ]
    }
   ],
   "source": [
    "print(f1)"
   ]
  },
  {
   "cell_type": "code",
   "execution_count": 5,
   "metadata": {},
   "outputs": [
    {
     "name": "stdout",
     "output_type": "stream",
     "text": [
      "CLIP-as-service\n",
      "Hello Jina\n",
      "Done\n"
     ]
    }
   ],
   "source": [
    "def f2(f):\n",
    "    print(\"CLIP-as-service\")\n",
    "    f()\n",
    "    print(\"Done\")\n",
    "    \n",
    "f2(f1)"
   ]
  },
  {
   "cell_type": "code",
   "execution_count": 6,
   "metadata": {},
   "outputs": [
    {
     "name": "stdout",
     "output_type": "stream",
     "text": [
      "CLIP-as-service\n",
      "Hello Jina\n",
      "Done\n",
      "None\n"
     ]
    }
   ],
   "source": [
    "print(f2(f1))"
   ]
  },
  {
   "cell_type": "code",
   "execution_count": null,
   "metadata": {},
   "outputs": [],
   "source": []
  }
 ],
 "metadata": {
  "kernelspec": {
   "display_name": "Python 3 (ipykernel)",
   "language": "python",
   "name": "python3"
  },
  "language_info": {
   "codemirror_mode": {
    "name": "ipython",
    "version": 3
   },
   "file_extension": ".py",
   "mimetype": "text/x-python",
   "name": "python",
   "nbconvert_exporter": "python",
   "pygments_lexer": "ipython3",
   "version": "3.9.12"
  },
  "vscode": {
   "interpreter": {
    "hash": "c769f0fa160079b2cd2a7dc7a505e2ec2a9ba02544a35d08cb03a3a31eeb04f5"
   }
  }
 },
 "nbformat": 4,
 "nbformat_minor": 2
}
